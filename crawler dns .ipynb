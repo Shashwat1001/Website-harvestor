{
 "cells": [
  {
   "cell_type": "code",
   "execution_count": 2,
   "metadata": {},
   "outputs": [
    {
     "name": "stdout",
     "output_type": "stream",
     "text": [
      "Requirement already satisfied: beautifulsoup4 in c:\\users\\shardul\\anaconda3\\lib\\site-packages (4.8.2)\n",
      "Requirement already satisfied: soupsieve>=1.2 in c:\\users\\shardul\\anaconda3\\lib\\site-packages (from beautifulsoup4) (1.9.5)\n"
     ]
    }
   ],
   "source": [
    "!pip install beautifulsoup4"
   ]
  },
  {
   "cell_type": "code",
   "execution_count": 1,
   "metadata": {},
   "outputs": [],
   "source": [
    "import selenium\n",
    "import time\n",
    "import urllib.request\n",
    "import io\n",
    "import requests\n",
    "from selenium import webdriver\n",
    "from selenium.webdriver.common.by import By\n",
    "from selenium.webdriver.common.action_chains import ActionChains\n",
    "from selenium.webdriver.support import expected_conditions as EC\n",
    "from selenium.webdriver.support.ui import WebDriverWait\n",
    "import shutil, pathlib, fnmatch\n",
    "import pickle\n",
    "from selenium.webdriver.chrome.options import Options\n",
    "import shutil\n",
    "import os\n",
    "import warnings\n",
    "warnings.filterwarnings(\"ignore\")\n",
    "import pandas as pd\n",
    "import numpy as np\n"
   ]
  },
  {
   "cell_type": "code",
   "execution_count": 5,
   "metadata": {},
   "outputs": [],
   "source": [
    "class domaindetails:\n",
    "  def __init__(self, url,link):\n",
    "    self.url = url\n",
    "    self.link = link\n",
    "  def getdata(self):\n",
    "    options = webdriver.ChromeOptions()\n",
    "    preferences= {\"profile.default_content_settings.popups\": 0,\"download.default_directory\":r\"\\data\",\"directory_upgrade\": True}\n",
    "    options.add_experimental_option(\"prefs\",preferences)\n",
    "    chrome = r'C:\\Users\\shardul\\printPDF\\chromedriver_win32\\chromedriver.exe'\n",
    "    #options.add_extension(r'C:\\Users\\shardul\\Downloads\\extension_3_9_5_0.crx')\n",
    "    driver = webdriver.Chrome(chrome,chrome_options = options)\n",
    "    driver.get(self.url)\n",
    "    driver.maximize_window()\n",
    "    wait = WebDriverWait(driver, 10)\n",
    "    search=driver.find_element_by_xpath('//*[@id=\"domainSearchForm\"]/div/div/input')\n",
    "    search.send_keys(self.link)\n",
    "    search.click()\n",
    "    driver.find_element_by_xpath('//*[@id=\"domainSearchForm\"]/div/button').click()\n",
    "    data = driver.find_element_by_xpath('/html/body/div[3]/div[2]/div[5]/div[1]/div[11]/div/div/div/pre')\n",
    "    self.text1=data.text\n",
    "    driver.quit()\n",
    "  def data(self):\n",
    "    print(self.text1.splitlines()[0])\n",
    "    print(self.text1.splitlines()[1])\n",
    "    print(self.text1.splitlines()[3])\n",
    "    print(self.text1.splitlines()[6])\n",
    "    print(self.text1.splitlines()[7])\n",
    "    print(self.text1.splitlines()[8])\n",
    "    print(self.text1.splitlines()[17])\n",
    "\n",
    "    time.sleep(5)"
   ]
  },
  {
   "cell_type": "code",
   "execution_count": 6,
   "metadata": {},
   "outputs": [],
   "source": [
    "class IP_address:\n",
    "  def __init__(self, url,link):\n",
    "    self.url = url\n",
    "    self.link = link\n",
    "  def getdata(self):\n",
    "    options = webdriver.ChromeOptions()\n",
    "    preferences= {\"profile.default_content_settings.popups\": 0,\"download.default_directory\":r\"D:\\job\\data\\hindustan\",\"directory_upgrade\": True}\n",
    "    options.add_experimental_option(\"prefs\",preferences)\n",
    "    chrome = r'C:\\Users\\shardul\\Downloads\\chromedriver_win32 (1)\\chromedriver.exe'\n",
    "    #options.add_extension(r'C:\\Users\\shardul\\Downloads\\extension_3_9_5_0.crx')\n",
    "    driver = webdriver.Chrome(chrome,chrome_options = options)\n",
    "    driver.get(self.url)\n",
    "    driver.maximize_window()\n",
    "    wait = WebDriverWait(driver, 10)\n",
    "    search=driver.find_element_by_xpath('/html/body/div[1]/form/div/p[2]/input[2]')\n",
    "    search.send_keys(self.link)\n",
    "    search.click()\n",
    "    element=driver.find_element_by_xpath('/html/body/div[1]/form/div/p[2]/input[1]')\n",
    "    element.click()\n",
    "    \"\"\"\n",
    "    data = driver.find_element_by_xpath('/html/body/section[2]/div/div/div/div[1]/div/textarea')\n",
    "    self.text1=data.text\n",
    "    \"\"\"\n",
    "    print(self.text1)\n",
    "    driver.quit()"
   ]
  },
  {
   "cell_type": "code",
   "execution_count": null,
   "metadata": {},
   "outputs": [],
   "source": [
    "p1 = domaindetails(\"https://who.is/\",'https://www.voiceofcancerpatients.com')\n",
    "p1.getdata()\n",
    "domain=p1.data()"
   ]
  },
  {
   "cell_type": "code",
   "execution_count": null,
   "metadata": {},
   "outputs": [],
   "source": [
    "p2 = IP_address(\"https://ipinfo.info/html/ip_checker.php\",'https://www.voiceofcancerpatients.com')\n",
    "p2.getdata()\n",
    "domain=p2.data()"
   ]
  },
  {
   "cell_type": "code",
   "execution_count": null,
   "metadata": {},
   "outputs": [],
   "source": []
  }
 ],
 "metadata": {
  "kernelspec": {
   "display_name": "Python 3",
   "language": "python",
   "name": "python3"
  },
  "language_info": {
   "codemirror_mode": {
    "name": "ipython",
    "version": 3
   },
   "file_extension": ".py",
   "mimetype": "text/x-python",
   "name": "python",
   "nbconvert_exporter": "python",
   "pygments_lexer": "ipython3",
   "version": "3.7.6"
  }
 },
 "nbformat": 4,
 "nbformat_minor": 4
}
